{
 "cells": [
  {
   "cell_type": "code",
   "execution_count": 13,
   "metadata": {
    "scrolled": true
   },
   "outputs": [
    {
     "name": "stderr",
     "output_type": "stream",
     "text": [
      "fatal: destination path 'gplearn' already exists and is not an empty directory.\n"
     ]
    },
    {
     "name": "stdout",
     "output_type": "stream",
     "text": [
      "Processing c:\\users\\yanas\\onedrive\\masters\\untitled folder 1\\gplearn\n",
      "  Preparing metadata (setup.py): started\n",
      "  Preparing metadata (setup.py): finished with status 'done'\n",
      "Requirement already satisfied: scikit-learn>=0.22.1 in c:\\users\\yanas\\appdata\\local\\continuum\\anaconda3\\lib\\site-packages (from gplearn==0.5.dev0) (1.0.2)\n",
      "Requirement already satisfied: joblib>=0.13.0 in c:\\users\\yanas\\appdata\\local\\continuum\\anaconda3\\lib\\site-packages (from gplearn==0.5.dev0) (0.13.2)\n",
      "Requirement already satisfied: numpy>=1.14.6 in c:\\users\\yanas\\appdata\\local\\continuum\\anaconda3\\lib\\site-packages (from scikit-learn>=0.22.1->gplearn==0.5.dev0) (1.16.5)\n",
      "Requirement already satisfied: scipy>=1.1.0 in c:\\users\\yanas\\appdata\\local\\continuum\\anaconda3\\lib\\site-packages (from scikit-learn>=0.22.1->gplearn==0.5.dev0) (1.3.1)\n",
      "Requirement already satisfied: threadpoolctl>=2.0.0 in c:\\users\\yanas\\appdata\\local\\continuum\\anaconda3\\lib\\site-packages (from scikit-learn>=0.22.1->gplearn==0.5.dev0) (3.1.0)\n",
      "Building wheels for collected packages: gplearn\n",
      "  Building wheel for gplearn (setup.py): started\n",
      "  Building wheel for gplearn (setup.py): finished with status 'done'\n",
      "  Created wheel for gplearn: filename=gplearn-0.5.dev0-py3-none-any.whl size=25974 sha256=162fa5f910a77361a2137350ba154a1262b3c6a107bb35aca86345c90aa80ced\n",
      "  Stored in directory: C:\\Users\\yanas\\AppData\\Local\\Temp\\pip-ephem-wheel-cache-kulmkc3e\\wheels\\6e\\0e\\1a\\888b3ff1f0470d777e7f3abe875319a43034b079ca45b15c42\n",
      "Successfully built gplearn\n",
      "Installing collected packages: gplearn\n",
      "  Attempting uninstall: gplearn\n",
      "    Found existing installation: gplearn 0.5.dev0\n",
      "    Uninstalling gplearn-0.5.dev0:\n",
      "      Successfully uninstalled gplearn-0.5.dev0\n",
      "Successfully installed gplearn-0.5.dev0\n"
     ]
    },
    {
     "name": "stderr",
     "output_type": "stream",
     "text": [
      "WARNING: You are using pip version 21.3.1; however, version 22.0.3 is available.\n",
      "You should consider upgrading via the 'c:\\users\\yanas\\appdata\\local\\continuum\\anaconda3\\python.exe -m pip install --upgrade pip' command.\n"
     ]
    }
   ],
   "source": [
    "# DO NOT RUN THIS CEL!!! \n",
    "#! pip install gplearn \n",
    "!git clone https://github.com/yanavdsande/gplearn.git\n",
    "!pip install ./gplearn"
   ]
  },
  {
   "cell_type": "code",
   "execution_count": 14,
   "metadata": {},
   "outputs": [],
   "source": [
    "import numpy as np\n",
    "import matplotlib.pyplot as plt\n",
    "from gplearn.genetic import SymbolicRegressor\n",
    "from gplearn.functions import make_function\n",
    "from gplearn.fitness import make_fitness\n",
    "import math\n",
    "import sys\n",
    "import graphviz\n",
    "from sklearn.utils.random import check_random_state\n",
    "from sklearn.metrics import mean_squared_error"
   ]
  },
  {
   "cell_type": "code",
   "execution_count": 15,
   "metadata": {},
   "outputs": [],
   "source": [
    "data = [(-1, 0), \n",
    "        (-0.9, -0.1629), \n",
    "        (-0.8, -0.2624), \n",
    "        (-0.7, -0.3129), \n",
    "        (-0.6, -0.3264), \n",
    "        (-0.5, -0.3125), \n",
    "        (-0.4, -0.2784), \n",
    "        (-0.3, -0.2289), \n",
    "        (-0.2, -0.1664), \n",
    "        (-0.1, -0.0909),\n",
    "        (0, 0), \n",
    "        (0.1, 0.1111), \n",
    "        (0.2, 0.2496), \n",
    "        (0.3, 0.4251), \n",
    "        (0.4, 0.6496), \n",
    "        (0.5, 0.9375),\n",
    "        (0.6, 1.3056), \n",
    "        (0.7, 1.7731), \n",
    "        (0.8, 2.3616), \n",
    "        (0.9, 3.0951), \n",
    "        (1, 4)]\n",
    "\n",
    "X = np.array([x[0] for x in data]).reshape(-1, 1)\n",
    "y = np.array([x[1] for x in data]).reshape(-1, 1)\n",
    "\n",
    "#Borrowed from:\n",
    "#https://github.com/trevorstephens/gplearn/issues/49\n",
    "#(takes care of very high outputs of exp())\n",
    "def expFunc(x1):\n",
    "    with np.errstate(over='ignore'):\n",
    "        return np.where(np.abs(x1) < 100, np.exp(x1), 0.)\n",
    "\n",
    "exp = make_function(function=expFunc,name='exp', arity=1)\n",
    "\n",
    "#Borrowed from:\n",
    "#https://stackoverflow.com/questions/52560845/what-is-the-fastest-way-to-calculate-sum-of-absolute-differences-between-two-ima\n",
    "def sumOfAbsoluteErrorsFunc(y_prediction, y_outcome, w):\n",
    "    difference = np.subtract(y_prediction,y_outcome,dtype=float)\n",
    "    absolute = np.abs(difference)\n",
    "    return np.sum(absolute)\n",
    "    \n",
    "sumOfAbsoluteErrors = make_fitness(sumOfAbsoluteErrorsFunc, greater_is_better = False)"
   ]
  },
  {
   "cell_type": "code",
   "execution_count": 16,
   "metadata": {},
   "outputs": [
    {
     "name": "stdout",
     "output_type": "stream",
     "text": [
      "    |   Population Average    |             Best Individual              |\n",
      "---- ------------------------- ------------------------------------------ ----------\n",
      " Gen   Length          Fitness   Length          Fitness      OOB Fitness  Time Left\n",
      "   0    15.43      2.87999e+32        6          7.94333              N/A     42.28s\n",
      "   1    10.64      1.33976e+16        5           5.2503              N/A     50.62s\n",
      "   2     9.60          17.0207       13          3.63414              N/A     47.84s\n",
      "   3    12.19      3.87715e+08       13          3.34889              N/A     31.11s\n",
      "   4    10.01           122120       22          2.18642              N/A     33.60s\n",
      "   5    10.96      2.55621e+23       24          1.77869              N/A     27.11s\n",
      "   6    14.34       1.8632e+26       22          1.74243              N/A     28.02s\n",
      "   7    17.64      5.49641e+08       29          1.64479              N/A     37.37s\n",
      "   8    17.99          13.2321       23          1.50709              N/A      1.06m\n",
      "   9    23.13           8.6795       31         0.840123              N/A      1.29m\n",
      "  10    26.41          7.93226       31         0.840123              N/A      1.05m\n",
      "  11    26.28          7.94076       31         0.840123              N/A      1.04m\n",
      "  12    28.71          8.78745       33          0.76073              N/A      1.05m\n",
      "  13    30.44          8.97459       33          0.76073              N/A      1.03m\n",
      "  14    31.28          8.53395       33          0.76073              N/A     45.14s\n",
      "  15    32.44          8.73492       33         0.549176              N/A     52.95s\n",
      "  16    33.04          7.82932       33         0.549176              N/A      1.13m\n",
      "  17    32.73          7.98473       33         0.549176              N/A      1.17m\n",
      "  18    33.19          8.29654       33         0.549176              N/A     55.56s\n",
      "  19    32.98          7.45637       34         0.473866              N/A      1.05m\n",
      "  20    32.88          9.04317       34         0.473866              N/A     47.85s\n",
      "  21    33.78          7.08243       34         0.473866              N/A     26.96s\n",
      "  22    34.26           8.8337       35         0.465311              N/A     26.18s\n",
      "  23    33.65          7.27579       35         0.465311              N/A     23.16s\n",
      "  24    34.44          7.40357       35         0.465311              N/A     26.28s\n",
      "  25    34.44          7.40362       35         0.465311              N/A     21.95s\n",
      "  26    35.62          7.44206       35         0.465311              N/A     25.19s\n",
      "  27    34.90          7.46985       35          0.46489              N/A     24.44s\n",
      "  28    34.64          7.33898       35          0.46489              N/A     34.97s\n",
      "  29    35.01          7.30106       35          0.46489              N/A     37.57s\n",
      "  30    35.16          7.25025       35         0.443864              N/A     19.25s\n",
      "  31    34.77          7.19248       35         0.443864              N/A     17.17s\n",
      "  32    35.17           7.1384       35         0.443864              N/A     16.10s\n",
      "  33    35.14          7.73813       35         0.443864              N/A     16.22s\n",
      "  34    35.06          7.25972       35         0.443864              N/A     18.76s\n",
      "  35    34.63          7.35007       35         0.443864              N/A     13.09s\n",
      "  36    35.20          7.34451       35         0.443864              N/A     12.10s\n",
      "  37    35.10           7.4198       35         0.443864              N/A     13.17s\n",
      "  38    35.17          7.20494       35         0.443864              N/A     17.96s\n",
      "  39    34.84          7.48527       35         0.443864              N/A     13.59s\n",
      "  40    35.16          7.56786       35         0.443864              N/A     15.25s\n",
      "  41    34.92          7.45065       35         0.443864              N/A     18.49s\n",
      "  42    35.09          7.46319       35         0.443864              N/A     13.10s\n",
      "  43    34.70          6.76109       35         0.443864              N/A     10.16s\n",
      "  44    35.32          7.22101       35         0.443864              N/A      4.84s\n",
      "  45    34.97          7.24199       35         0.443864              N/A      4.26s\n",
      "  46    34.52          7.39849       35         0.443864              N/A      2.94s\n",
      "  47    34.79          7.00688       35         0.443864              N/A      1.98s\n",
      "  48    34.70          7.76168       35         0.443864              N/A      1.67s\n",
      "  49    34.59          7.58496       35         0.443864              N/A      0.00s\n",
      "add(add(-0.902, mul(add(sub(mul(-0.623, sin(X0)), div(0.373, -0.902)), mul(sin(X0), exp(X0))), mul(X0, X0))), mul(cos(sub(mul(-0.623, sin(sin(sin(X0)))), div(0.373, -0.902))), exp(X0)))\n"
     ]
    }
   ],
   "source": [
    "gp = SymbolicRegressor(population_size=1000, \n",
    "                       generations=50, \n",
    "                       p_crossover=0.7, \n",
    "                       function_set=['add', 'sub', 'mul', 'log', exp, 'sin', 'cos', 'div'], \n",
    "                       #I did not know for sure what type of mutation was referred to in in the assignment.\n",
    "                       #Namely, gplearn provides three types of mutation. I based my choice off of the \n",
    "                       #information provided during the second lecture.\n",
    "                       p_subtree_mutation = 0,\n",
    "                       metric=sumOfAbsoluteErrors, verbose=1)\n",
    "\n",
    "gp.fit(X, y.ravel())\n",
    "gp.score(X, y.ravel())\n",
    "print(gp)"
   ]
  },
  {
   "cell_type": "code",
   "execution_count": 17,
   "metadata": {},
   "outputs": [
    {
     "data": {
      "image/png": "[encoded data removed]",
      "text/plain": [
       "<Figure size 432x288 with 1 Axes>"
      ]
     },
     "metadata": {
      "needs_background": "light"
     },
     "output_type": "display_data"
    },
    {
     "data": {
      "image/png": "[encoded data removed]",
      "text/plain": [
       "<Figure size 432x288 with 1 Axes>"
      ]
     },
     "metadata": {
      "needs_background": "light"
     },
     "output_type": "display_data"
    },
    {
     "name": "stdout",
     "output_type": "stream",
     "text": [
      " \"The length of a program is the number of elements in the formula which is equal to the total number of nodes\".\n"
     ]
    },
    {
     "data": {
      "image/png": "[encoded data removed]",
      "text/plain": [
       "<Figure size 432x288 with 1 Axes>"
      ]
     },
     "metadata": {
      "needs_background": "light"
     },
     "output_type": "display_data"
    }
   ],
   "source": [
    "plt.title(\"Best fitness per generation\")\n",
    "plt.plot(gp.run_details_['generation'], gp.run_details_['best_fitness'])\n",
    "plt.ylabel(\"Best fitness\")\n",
    "plt.xlabel(\"Generation #\")\n",
    "plt.show()\n",
    "\n",
    "plt.title(\"Best length per generation\")\n",
    "plt.plot(gp.run_details_['generation'], gp.run_details_['best_length'])\n",
    "plt.ylabel(\"Best length\")\n",
    "plt.xlabel(\"Generation #\")\n",
    "#txt=\" \\\"The length of a program is the number of elements in the formula which is equal to the total number of nodes.\\\" \"\n",
    "#plt.figtext(1, -0.3, txt, wrap=True, horizontalalignment='right', fontsize=12)\n",
    "plt.show()\n",
    "print(\" \\\"The length of a program is the number of elements in the formula which is equal to the total number of nodes\\\".\")\n",
    "\n",
    "fig, ax = plt.subplots()\n",
    "plt.title(\"Average length per generation plotted within the max-min interval of length\")\n",
    "plt.plot(gp.run_details_['generation'], gp.run_details_['average_length'])\n",
    "ax.fill_between(gp.run_details_['generation'], gp.run_details_['min_length'], gp.run_details_['max_length'], color='b', alpha=.3)         \n",
    "plt.ylabel(\"Length\")\n",
    "plt.xlabel(\"Generation #\")\n",
    "plt.legend(['Average length'])\n",
    "plt.show()\n",
    "\n"
   ]
  },
  {
   "cell_type": "markdown",
   "metadata": {},
   "source": [
    "**Can you observe any undesirable phenomenon from these plots?**\n",
    "\n",
    "The average length per generation grows while the best fitness stagnates; bloating occurs.\n",
    "\n",
    "**In case of positive answer, how would you try to overcome the related problem? (You can refer to - and briefly describe - a specific paper from the literature)**\n",
    "\n",
    "The fitness measure could be penalized, so the fitness of an individual could be adjusted based on its size. This way, the larger problems would be discarded more quickly. This method, introduced by Poli & Mcphee (2008) is called the covariant parsimony method.\n",
    "\n",
    "Poli, Riccardo & Mcphee, Nicholas. (2008). Covariant Parsimony Pressure for Genetic Programming. "
   ]
  },
  {
   "cell_type": "code",
   "execution_count": null,
   "metadata": {},
   "outputs": [],
   "source": []
  }
 ],
 "metadata": {
  "kernelspec": {
   "display_name": "Python 3",
   "language": "python",
   "name": "python3"
  },
  "language_info": {
   "codemirror_mode": {
    "name": "ipython",
    "version": 3
   },
   "file_extension": ".py",
   "mimetype": "text/x-python",
   "name": "python",
   "nbconvert_exporter": "python",
   "pygments_lexer": "ipython3",
   "version": "3.7.4"
  }
 },
 "nbformat": 4,
 "nbformat_minor": 5
}
