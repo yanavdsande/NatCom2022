{
 "cells": [
  {
   "cell_type": "code",
   "execution_count": 16,
   "id": "66dbb475",
   "metadata": {},
   "outputs": [
    {
     "name": "stdout",
     "output_type": "stream",
     "text": [
      "Requirement already satisfied: gplearn in c:\\users\\coen_\\anaconda3\\lib\\site-packages (0.4.1)\n",
      "Requirement already satisfied: scikit-learn>=0.20.0 in c:\\users\\coen_\\anaconda3\\lib\\site-packages (from gplearn) (0.24.1)\n",
      "Requirement already satisfied: joblib>=0.13.0 in c:\\users\\coen_\\anaconda3\\lib\\site-packages (from gplearn) (1.0.1)\n",
      "Requirement already satisfied: threadpoolctl>=2.0.0 in c:\\users\\coen_\\anaconda3\\lib\\site-packages (from scikit-learn>=0.20.0->gplearn) (2.1.0)\n",
      "Requirement already satisfied: numpy>=1.13.3 in c:\\users\\coen_\\anaconda3\\lib\\site-packages (from scikit-learn>=0.20.0->gplearn) (1.20.1)\n",
      "Requirement already satisfied: scipy>=0.19.1 in c:\\users\\coen_\\anaconda3\\lib\\site-packages (from scikit-learn>=0.20.0->gplearn) (1.6.2)\n"
     ]
    }
   ],
   "source": [
    "! pip install gplearn"
   ]
  },
  {
   "cell_type": "code",
   "execution_count": 21,
   "id": "0212c138",
   "metadata": {},
   "outputs": [],
   "source": [
    "import numpy as np\n",
    "import matplotlib.pyplot as plt\n",
    "from gplearn.genetic import SymbolicRegressor\n",
    "from gplearn.functions import make_function\n",
    "from gplearn.fitness import make_fitness\n",
    "import math\n",
    "import sys\n",
    "import graphviz\n",
    "from sklearn.utils.random import check_random_state\n",
    "from sklearn.metrics import mean_squared_error"
   ]
  },
  {
   "cell_type": "code",
   "execution_count": 22,
   "id": "e99aa279",
   "metadata": {},
   "outputs": [],
   "source": [
    "data = [(-1, 0), \n",
    "        (-0.9, -0.1629), \n",
    "        (-0.8, -0.2624), \n",
    "        (-0.7, -0.3129), \n",
    "        (-0.6, -0.3264), \n",
    "        (-0.5, -0.3125), \n",
    "        (-0.4, -0.2784), \n",
    "        (-0.3, -0.2289), \n",
    "        (-0.2, -0.1664), \n",
    "        (-0.1, -0.0909),\n",
    "        (0, 0), \n",
    "        (0.1, 0.1111), \n",
    "        (0.2, 0.2496), \n",
    "        (0.3, 0.4251), \n",
    "        (0.4, 0.6496), \n",
    "        (0.5, 0.9375),\n",
    "        (0.6, 1.3056), \n",
    "        (0.7, 1.7731), \n",
    "        (0.8, 2.3616), \n",
    "        (0.9, 3.0951), \n",
    "        (1, 4)]\n",
    "\n",
    "X = np.array([x[0] for x in data]).reshape(-1, 1)\n",
    "y = np.array([x[1] for x in data]).reshape(-1, 1)\n",
    "\n",
    "#Borrowed from:\n",
    "#https://github.com/trevorstephens/gplearn/issues/49\n",
    "#(takes care of very high outputs of exp())\n",
    "def expFunc(x1):\n",
    "    with np.errstate(over='ignore'):\n",
    "        return np.where(np.abs(x1) < 100, np.exp(x1), 0.)\n",
    "\n",
    "exp = make_function(function=expFunc,name='exp', arity=1)\n",
    "\n",
    "#Borrowed from:\n",
    "#https://stackoverflow.com/questions/52560845/what-is-the-fastest-way-to-calculate-sum-of-absolute-differences-between-two-ima\n",
    "def sumOfAbsoluteErrorsFunc(y_prediction, y_outcome, w):\n",
    "    difference = np.subtract(y_prediction,y_outcome,dtype=float)\n",
    "    absolute = np.abs(difference)\n",
    "    return np.sum(absolute)\n",
    "    \n",
    "sumOfAbsoluteErrors = make_fitness(sumOfAbsoluteErrorsFunc, greater_is_better = False)"
   ]
  },
  {
   "cell_type": "code",
   "execution_count": 23,
   "id": "c68e1390",
   "metadata": {},
   "outputs": [
    {
     "name": "stdout",
     "output_type": "stream",
     "text": [
      "    |   Population Average    |             Best Individual              |\n",
      "---- ------------------------- ------------------------------------------ ----------\n",
      " Gen   Length          Fitness   Length          Fitness      OOB Fitness  Time Left\n",
      "   0    16.12      4.30792e+36       14          5.51584              N/A     35.56s\n",
      "   1    11.77      7.37769e+07        6          4.24698              N/A     31.62s\n",
      "   2    16.44          16.1919       51          3.21986              N/A     32.30s\n",
      "   3    17.93           15.688       13           1.9536              N/A     29.67s\n",
      "   4    16.11          12.3648       35          1.75938              N/A     28.89s\n",
      "   5    24.28          11.9179       21          1.01414              N/A     32.10s\n",
      "   6    23.70           8.7946       26          0.99975              N/A     28.84s\n",
      "   7    27.31            8.263       29         0.314747              N/A     31.84s\n",
      "   8    25.47          7.53772       29         0.314747              N/A     29.92s\n",
      "   9    24.14          8.12911       29         0.314747              N/A     27.21s\n",
      "  10    27.47          10.0567       29         0.314747              N/A     29.56s\n",
      "  11    28.98          9.00312       29         0.314747              N/A     27.60s\n",
      "  12    28.91          10.7018       29         0.314747              N/A     25.73s\n",
      "  13    28.95          10.0237       29         0.314747              N/A     24.90s\n",
      "  14    28.59          9.91083       29         0.314747              N/A     25.15s\n",
      "  15    28.96          8.92253       29         0.314747              N/A     24.27s\n",
      "  16    28.59          10.1543       29         0.314747              N/A     23.04s\n",
      "  17    28.82          10.7679       29         0.314747              N/A     22.43s\n",
      "  18    28.53          9.26656       29         0.314747              N/A     22.04s\n",
      "  19    28.84          9.56389       29         0.314747              N/A     20.57s\n",
      "  20    29.25          11.4283       29         0.314747              N/A     20.54s\n",
      "  21    29.14           10.028       29         0.314747              N/A     19.80s\n",
      "  22    29.56          10.6673       29         0.314747              N/A     19.38s\n",
      "  23    28.92           9.5538       29         0.314747              N/A     18.48s\n",
      "  24    29.47          9.96383       29         0.314747              N/A     17.90s\n",
      "  25    28.71          11.0063       29         0.314747              N/A     18.32s\n",
      "  26    29.09          10.6334       29         0.314747              N/A     16.99s\n",
      "  27    29.01          9.73343       29         0.314747              N/A     15.75s\n",
      "  28    28.61          8.71453       29         0.314747              N/A     15.18s\n",
      "  29    28.79          9.19149       29         0.314747              N/A     14.88s\n",
      "  30    28.72          10.3025       29         0.314747              N/A     13.49s\n",
      "  31    28.97          10.0943       29         0.314747              N/A     13.31s\n",
      "  32    29.56          10.6662       29         0.314747              N/A     15.83s\n",
      "  33    28.76          18.2206       29         0.314747              N/A     21.49s\n",
      "  34    28.72          10.4321       29         0.314747              N/A     23.05s\n",
      "  35    28.80          8.74834       29         0.314747              N/A     13.20s\n",
      "  36    28.80          10.0412       29         0.314747              N/A     13.68s\n",
      "  37    28.88          9.15119       29         0.314747              N/A     13.53s\n",
      "  38    29.14          9.79775       29         0.314747              N/A     10.24s\n",
      "  39    28.96          9.69116       29         0.314747              N/A      9.26s\n",
      "  40    28.76          9.72399       29         0.314747              N/A      7.96s\n",
      "  41    28.65          9.71982       29         0.314747              N/A      7.24s\n",
      "  42    29.11          9.83008       29         0.314747              N/A      6.98s\n",
      "  43    28.32          10.2189       29         0.314747              N/A      5.90s\n",
      "  44    29.00          11.3904       29         0.314747              N/A      5.40s\n",
      "  45    29.04          10.3125       29         0.314747              N/A      4.11s\n",
      "  46    29.09          9.22286       29         0.314747              N/A      3.03s\n",
      "  47    29.25          10.4853       29         0.314747              N/A      2.18s\n",
      "  48    29.19          9.36117       29         0.314747              N/A      1.07s\n",
      "  49    28.98          9.52198       29         0.314747              N/A      0.00s\n",
      "mul(sin(mul(0.876, X0)), add(mul(add(X0, 0.135), mul(div(mul(X0, -0.669), sub(0.754, 0.249)), sub(div(X0, -0.826), sin(0.940)))), exp(sin(mul(0.876, X0)))))\n"
     ]
    }
   ],
   "source": [
    "gp = SymbolicRegressor(population_size=1000, \n",
    "                       generations=50, \n",
    "                       p_crossover=0.7, \n",
    "                       function_set=['add', 'sub', 'mul', 'log', exp, 'sin', 'cos', 'div'], \n",
    "                       #I did not know for sure what type of mutation was referred to in in the assignment.\n",
    "                       #Namely, gplearn provides three types of mutation. I based my choice off of the \n",
    "                       #information provided during the second lecture.\n",
    "                       p_subtree_mutation = 0,\n",
    "                       metric=sumOfAbsoluteErrors, verbose=1)\n",
    "\n",
    "gp.fit(X, y.ravel())\n",
    "gp.score(X, y.ravel())\n",
    "print(gp)"
   ]
  },
  {
   "cell_type": "code",
   "execution_count": 49,
   "id": "7dec4210",
   "metadata": {},
   "outputs": [
    {
     "data": {
      "image/png": "[encoded data removed]",
      "text/plain": [
       "<Figure size 432x288 with 1 Axes>"
      ]
     },
     "metadata": {
      "needs_background": "light"
     },
     "output_type": "display_data"
    },
    {
     "data": {
      "image/png": "[encoded data removed]",
      "text/plain": [
       "<Figure size 432x288 with 1 Axes>"
      ]
     },
     "metadata": {
      "needs_background": "light"
     },
     "output_type": "display_data"
    },
    {
     "name": "stdout",
     "output_type": "stream",
     "text": [
      " \"The length of a program is the number of elements in the formula which is equal to the total number of nodes\".\n"
     ]
    },
    {
     "data": {
      "image/png": "[encoded data removed]",
      "text/plain": [
       "<Figure size 432x288 with 1 Axes>"
      ]
     },
     "metadata": {
      "needs_background": "light"
     },
     "output_type": "display_data"
    }
   ],
   "source": [
    "plt.title(\"Best fitness per generation\")\n",
    "plt.plot(gp.run_details_['generation'], gp.run_details_['best_fitness'])\n",
    "plt.ylabel(\"Best fitness\")\n",
    "plt.xlabel(\"Generation #\")\n",
    "plt.show()\n",
    "\n",
    "plt.title(\"Best length per generation\")\n",
    "plt.plot(gp.run_details_['generation'], gp.run_details_['best_length'])\n",
    "plt.ylabel(\"Best length\")\n",
    "plt.xlabel(\"Generation #\")\n",
    "#txt=\" \\\"The length of a program is the number of elements in the formula which is equal to the total number of nodes.\\\" \"\n",
    "#plt.figtext(1, -0.3, txt, wrap=True, horizontalalignment='right', fontsize=12)\n",
    "plt.show()\n",
    "print(\" \\\"The length of a program is the number of elements in the formula which is equal to the total number of nodes\\\".\")\n",
    "\n",
    "plt.title(\"Average length per generation\")\n",
    "plt.plot(gp.run_details_['generation'], gp.run_details_['average_length'])\n",
    "plt.ylabel(\"Average length\")\n",
    "plt.xlabel(\"Generation #\")\n",
    "plt.show()"
   ]
  },
  {
   "cell_type": "markdown",
   "id": "447c80d5",
   "metadata": {},
   "source": [
    "Unfortunately, the framework chosen is not able to provide the minimum and maximum size. So, it is not possible to provide a plot with the spread between the minimum and maximum per generation."
   ]
  },
  {
   "cell_type": "markdown",
   "id": "37f85387",
   "metadata": {},
   "source": [
    "**Can you observe any undesirable phenomenon from these plots?**\n",
    "\n",
    "The average length per generation grows while the best fitness stagnates; bloating occurs.\n",
    "\n",
    "**In case of positive answer, how would you try to overcome the related problem? (You can refer to - and briefly describe - a specific paper from the literature)**\n",
    "\n",
    "The fitness measure could be penalized, so the fitness of an individual could be adjusted based on its size. This way, the larger problems would be discarded more quickly. This method, introduced by Poli & Mcphee (2008) is called the covariant parsimony method.\n",
    "\n",
    "Poli, Riccardo & Mcphee, Nicholas. (2008). Covariant Parsimony Pressure for Genetic Programming. "
   ]
  }
 ],
 "metadata": {
  "kernelspec": {
   "display_name": "Python 3",
   "language": "python",
   "name": "python3"
  },
  "language_info": {
   "codemirror_mode": {
    "name": "ipython",
    "version": 3
   },
   "file_extension": ".py",
   "mimetype": "text/x-python",
   "name": "python",
   "nbconvert_exporter": "python",
   "pygments_lexer": "ipython3",
   "version": "3.8.8"
  }
 },
 "nbformat": 4,
 "nbformat_minor": 5
}
