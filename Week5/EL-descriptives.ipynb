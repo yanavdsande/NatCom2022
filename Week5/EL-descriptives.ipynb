{
 "cells": [
  {
   "cell_type": "code",
   "execution_count": 8,
   "metadata": {},
   "outputs": [
    {
     "name": "stdout",
     "output_type": "stream",
     "text": [
      "These are the means of the A-samples: [0.7 0.4 0.  0.6 0.4]\n",
      "These are the means of the B-samples: [0.3 0.6 1.  0.4 0.6]\n",
      "These are the Max. values of the A-samples: [0.9 0.9 0.  0.9 0.7]\n",
      "These are the Max. values of the B-samples: [0.7 0.9 1.  1.  0.8]\n",
      "These are the Min. values of the A-samples: [0.3 0.1 0.  0.  0.2]\n",
      "These are the Min. values of the B-samples: [0.1 0.1 1.  0.1 0.3]\n",
      "This is the product of the A-sample values: [0.243 0.018 0.    0.    0.042]\n",
      "These are the products of the B sample values: [0.007 0.072 1.    0.01  0.168]\n"
     ]
    }
   ],
   "source": [
    "#One can load in data in a PD and it will calculate the mean, min, max and product \n",
    "\n",
    "\n",
    "import numpy as np \n",
    "\n",
    "A_values = np.array([[0.3,0.9,0.9],[0.2,0.9,0.1],[0.0,0.0,0.0],[0.9,0.9,0.0],[0.3,0.7,0.2]])\n",
    "B_values = np.array([[0.7,0.1,0.1],[0.8,0.1,0.9],[1.0,1.0,1.0],[0.1,0.1,1.0],[0.7,0.3,0.8]])\n",
    "\n",
    "print(f\"These are the means of the A-samples: {A_values.mean(axis=1)}\")\n",
    "print(f\"These are the means of the B-samples: {B_values.mean(axis=1)}\")\n",
    "\n",
    "print(f\"These are the Max. values of the A-samples: {A_values.max(axis=1)}\")\n",
    "print(f\"These are the Max. values of the B-samples: {B_values.max(axis=1)}\")\n",
    "\n",
    "print(f\"These are the Min. values of the A-samples: {A_values.min(axis=1)}\")\n",
    "print(f\"These are the Min. values of the B-samples: {B_values.min(axis=1)}\")\n",
    "\n",
    "print(f\"This is the product of the A-sample values: {A_values.prod(axis=1)}\")\n",
    "print(f\"These are the products of the B sample values: {B_values.prod(axis=1)}\")"
   ]
  },
  {
   "cell_type": "code",
   "execution_count": 9,
   "metadata": {},
   "outputs": [
    {
     "name": "stdout",
     "output_type": "stream",
     "text": [
      "0.5120000000000001\n"
     ]
    }
   ],
   "source": [
    "print(0.8*0.8*0.8)\n"
   ]
  }
 ],
 "metadata": {
  "interpreter": {
   "hash": "56bb007879ef6c3651bd3effdfc4ad6024c1db73d8a7b4c28a15d411253bcc7e"
  },
  "kernelspec": {
   "display_name": "Python 3.7.4 ('base')",
   "language": "python",
   "name": "python3"
  },
  "language_info": {
   "codemirror_mode": {
    "name": "ipython",
    "version": 3
   },
   "file_extension": ".py",
   "mimetype": "text/x-python",
   "name": "python",
   "nbconvert_exporter": "python",
   "pygments_lexer": "ipython3",
   "version": "3.7.4"
  },
  "orig_nbformat": 4
 },
 "nbformat": 4,
 "nbformat_minor": 2
}
